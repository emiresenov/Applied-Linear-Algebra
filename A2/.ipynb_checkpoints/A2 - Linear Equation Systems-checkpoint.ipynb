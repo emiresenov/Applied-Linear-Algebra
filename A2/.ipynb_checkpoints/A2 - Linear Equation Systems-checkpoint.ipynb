{
 "cells": [
  {
   "cell_type": "code",
   "execution_count": 1,
   "id": "98bf6a42",
   "metadata": {},
   "outputs": [],
   "source": [
    "import numpy as np\n",
    "import pandas as pd\n",
    "from time import process_time\n",
    "from scipy.linalg import lu\n",
    "from scipy.linalg import solve_triangular\n",
    "from scipy.sparse import csc_matrix\n",
    "from scipy.sparse import csr_matrix\n",
    "from scipy.sparse.linalg import spsolve\n",
    "import matplotlib.pyplot as plt\n",
    "from scipy.sparse import issparse"
   ]
  },
  {
   "cell_type": "markdown",
   "id": "5245da68",
   "metadata": {},
   "source": [
    "# Part A - Hand Calculations"
   ]
  },
  {
   "cell_type": "markdown",
   "id": "36825885",
   "metadata": {},
   "source": [
    "Given the matrix \n",
    "\n",
    "\n",
    "$$\n",
    "A = \n",
    "\\begin{pmatrix}\n",
    "    1 & 2 & 3 \\\\\n",
    "    2 & 5 & 10 \\\\\n",
    "    3 & 10 & 16\n",
    "\\end{pmatrix},\n",
    "b = \n",
    "\\begin{pmatrix}\n",
    "    3 \\\\\n",
    "    7 \\\\\n",
    "    13\n",
    "\\end{pmatrix}\n",
    "$$\n"
   ]
  },
  {
   "cell_type": "markdown",
   "id": "bee0c43f",
   "metadata": {},
   "source": [
    "## (a)\n",
    "Perform LU-decomposition with pivoting to find $L, U$ and $P$.\n",
    "\n",
    "### Answer:\n",
    "\n",
    "In \"regular\" matrix operation form: \n",
    "\n",
    "\\begin{gather*}\n",
    "    \\begin{pmatrix}\n",
    "        1 & 2 & 3 \\\\\n",
    "        2 & 5 & 10 \\\\\n",
    "        3 & 10 & 16\n",
    "    \\end{pmatrix}\n",
    "    \\xrightarrow[]{R3 \\leftrightarrow R1}\n",
    "    \\begin{pmatrix}\n",
    "        3 & 10 & 16 \\\\\n",
    "        2 & 5 & 10 \\\\\n",
    "        1 & 2 & 3\n",
    "    \\end{pmatrix}\n",
    "    \\xrightarrow[R3 - \\frac{1}{3} \\cdot R1]{R2 - \\frac{2}{3} \\cdot R1}\n",
    "    \\begin{pmatrix}\n",
    "        3 & 10 & 16 \\\\\n",
    "        0 & -\\frac{5}{3} & -\\frac{2}{3} \\\\\n",
    "        0 & -\\frac{4}{3} & -\\frac{7}{3}\n",
    "    \\end{pmatrix}\\\\\n",
    "    \\xrightarrow[]{R3 - \\frac{4}{5}R2}\n",
    "    \\begin{pmatrix}\n",
    "        3 & 10 & 16 \\\\\n",
    "        0 & -\\frac{5}{3} & -\\frac{2}{3} \\\\\n",
    "        0 & 0 & -\\frac{9}{5}\n",
    "    \\end{pmatrix}.\n",
    "\\end{gather*}\n",
    "\n",
    "From these operations, we gather that \n",
    "\n",
    "$$\n",
    "L = \n",
    "\\begin{pmatrix}\n",
    "    1 & 0 & 0 \\\\\n",
    "    \\frac{2}{3} & 1 & 0 \\\\\n",
    "    \\frac{1}{3} & \\frac{4}{5} & 1\n",
    "\\end{pmatrix},\n",
    "U =\n",
    "\\begin{pmatrix}\n",
    "    3 & 10 & 16 \\\\\n",
    "    0 & -\\frac{5}{3} & -\\frac{2}{3} \\\\\n",
    "    0 & 0 & -\\frac{9}{5}\n",
    "\\end{pmatrix},\n",
    "P = \n",
    "\\begin{pmatrix}\n",
    "    0 & 0 & 1 \\\\\n",
    "    0 & 1 & 0 \\\\\n",
    "    1 & 0 & 0\n",
    "\\end{pmatrix}.\n",
    "$$\n",
    "\n"
   ]
  },
  {
   "cell_type": "markdown",
   "id": "84359b22",
   "metadata": {},
   "source": [
    "## (b)\n",
    "Solve the equation system $Ax = b$ using forward and backward substitution.\n",
    "\n",
    "### Answer\n",
    "Let $d = Ux \\Rightarrow Ld = Pb$,\n",
    "\n",
    "$$\n",
    "\\begin{pmatrix}\n",
    "    1 & 0 & 0 \\\\\n",
    "    \\frac{2}{3} & 1 & 0 \\\\\n",
    "    \\frac{1}{3} & \\frac{4}{5} & 1\n",
    "\\end{pmatrix}\n",
    "\\begin{pmatrix}\n",
    "    d_1 \\\\\n",
    "    d_2 \\\\\n",
    "    d_3\n",
    "\\end{pmatrix}\n",
    "= \n",
    "\\begin{pmatrix}\n",
    "    0 & 0 & 1 \\\\\n",
    "    0 & 1 & 0 \\\\\n",
    "    1 & 0 & 0\n",
    "\\end{pmatrix}\n",
    "\\begin{pmatrix}\n",
    "    3 \\\\\n",
    "    7 \\\\\n",
    "    13\n",
    "\\end{pmatrix}\n",
    "= \n",
    "\\begin{pmatrix}\n",
    "    13 \\\\\n",
    "    7 \\\\\n",
    "    3\n",
    "\\end{pmatrix}\n",
    "$$\n",
    "\n",
    "$$\n",
    "\\Rightarrow\n",
    "\\begin{cases}\n",
    "    d_1 = 13 \\\\\n",
    "    d_2 = 7 - \\frac{2}{3} \\cdot 13 = \\frac{21}{3} - \\frac{26}{3} = -\\frac{5}{3} \\\\\n",
    "    d_3 = 3 + \\frac{4}{5} \\cdot \\frac{5}{3} - \\frac{1}{3} \\cdot 13 = \\frac{9}{3} + \\frac{4}{3} - \\frac{13}{3} = 0. \n",
    "\\end{cases}\n",
    "$$\n",
    "\n",
    "Solving for $Ux = d$ gives us\n",
    "$$\n",
    "\\begin{pmatrix}\n",
    "    3 & 10 & 16 \\\\\n",
    "    0 & -\\frac{5}{3} & -\\frac{2}{3} \\\\\n",
    "    0 & 0 & -\\frac{9}{5}\n",
    "\\end{pmatrix}\n",
    "\\begin{pmatrix}\n",
    "    x_1 \\\\\n",
    "    x_2 \\\\\n",
    "    x_3\n",
    "\\end{pmatrix}\n",
    "=\n",
    "\\begin{pmatrix}\n",
    "    13 \\\\\n",
    "    -5/3 \\\\\n",
    "    0\n",
    "\\end{pmatrix}\n",
    "$$\n",
    "\n",
    "$$\n",
    "\\Rightarrow\n",
    "\\begin{cases}\n",
    "    3 x_1 = 13 - 10 \\Rightarrow x_1 = 1 \\\\\n",
    "    \\frac{5}{3} x_2 = \\frac{5}{3} \\Rightarrow x_2 = 1 \\\\\n",
    "    x_3 = 0\n",
    "\\end{cases},\n",
    "$$\n",
    "\n",
    "thus\n",
    "$$\n",
    "x =\n",
    "\\begin{pmatrix}\n",
    "    1 \\\\\n",
    "    1 \\\\\n",
    "    0\n",
    "\\end{pmatrix}.\n",
    "$$\n"
   ]
  },
  {
   "cell_type": "markdown",
   "id": "834411b4",
   "metadata": {},
   "source": [
    "## (c)\n",
    "Find (if possible) the Cholesky-decomposition. Follow the algorithm for the\n",
    "Cholesky decomposition. Given the result, what is the conclusion?\n",
    "\n",
    "### Answer\n",
    "\n",
    "We perform LU-factorization without pivoting to preserve symmetry and get that\n",
    "\n",
    "\n",
    "$$\n",
    "\\begin{pmatrix}\n",
    "    1 & 2 & 3 \\\\\n",
    "    2 & 5 & 10 \\\\\n",
    "    3 & 10 & 16\n",
    "\\end{pmatrix}\n",
    "\\xrightarrow[R3 - 3R1]{R2 - 2R1}\n",
    "\\begin{pmatrix}\n",
    "    1 & 2 & 3 \\\\\n",
    "    0 & 1 & 4 \\\\\n",
    "    0 & 4 & 7\n",
    "\\end{pmatrix}\n",
    "\\xrightarrow[]{R3 - 4R2}\n",
    "\\begin{pmatrix}\n",
    "    1 & 2 & 3 \\\\\n",
    "    0 & 1 & 4 \\\\\n",
    "    0 & 0 & -9\n",
    "\\end{pmatrix}.\n",
    "$$\n",
    "\n",
    "Thus\n",
    "\n",
    "$$\n",
    "L = \n",
    "\\begin{pmatrix}\n",
    "    1 & 0 & 0 \\\\\n",
    "    2 & 1 & 0 \\\\\n",
    "    3 & 4 & 1\n",
    "\\end{pmatrix},\n",
    "U = \n",
    "\\begin{pmatrix}\n",
    "    1 & 2 & 3 \\\\\n",
    "    0 & 1 & 4 \\\\\n",
    "    0 & 0 & -9\n",
    "\\end{pmatrix}.\n",
    "$$\n",
    "\n",
    "Next we factorize $U$ to obtain\n",
    "\n",
    "$$\n",
    "U \n",
    "=\n",
    "\\begin{pmatrix}\n",
    "    1 & 2 & 3 \\\\\n",
    "    0 & 1 & 4 \\\\\n",
    "    0 & 0 & -9\n",
    "\\end{pmatrix}\n",
    "=\n",
    "\\begin{pmatrix}\n",
    "    1 & 0 & 0 \\\\\n",
    "    0 & 1 & 0 \\\\\n",
    "    0 & 0 & -9\n",
    "\\end{pmatrix}\n",
    "\\begin{pmatrix}\n",
    "    1 & 2 & 3 \\\\\n",
    "    0 & 1 & 4 \\\\\n",
    "    0 & 0 & 1\n",
    "\\end{pmatrix}\n",
    "= \n",
    "D L^T,\n",
    "$$\n",
    "\n",
    "completing our LDLT decomposition where $A = LDL^T$. To obtain the Cholesky decomposition we \n",
    "want $A = L D ^{1/2} D ^{1/2} L^T = G G^T,$ but here we run into a problem since\n",
    "$$\n",
    "\\begin{pmatrix}\n",
    "    1 & 0 & 0 \\\\\n",
    "    0 & 1 & 0 \\\\\n",
    "    0 & 0 & -9\n",
    "\\end{pmatrix} ^{1/2}\n",
    "= \n",
    "\\begin{pmatrix}\n",
    "    1 & 0 & 0 \\\\\n",
    "    0 & 1 & 0 \\\\\n",
    "    0 & 0 & \\sqrt{-9}\n",
    "\\end{pmatrix},\n",
    "$$\n",
    "\n",
    "leaving us with a negative square root. This means that the matrix is not positive definite, and therefore\n",
    "we cannot complete the Cholesky decomposition."
   ]
  },
  {
   "cell_type": "markdown",
   "id": "724e62f2",
   "metadata": {},
   "source": [
    "# Exercise 2\n",
    "\n",
    "In the previous assignment you worked with a system derived from an electric circuit.\n",
    "Let’s say that the input data, the voltages in the right-hand-side, are measured values\n",
    "and the instrument used to measure has 1% inaccuracy. What accuracy in the solution\n",
    "can we guarantee?"
   ]
  },
  {
   "cell_type": "code",
   "execution_count": 2,
   "id": "b6c43498",
   "metadata": {},
   "outputs": [
    {
     "data": {
      "text/plain": [
       "4.6192358734214825"
      ]
     },
     "execution_count": 2,
     "metadata": {},
     "output_type": "execute_result"
    }
   ],
   "source": [
    "M = np.matrix('2 4 0 0 0 0; 0 4 1 2 2 0; 0 0 0 0 2 4; 1 -1 1 0 0 0; 1 -1 0 1 0 0; 0 0 1 0 -1 1; 0 0 0 1 -1 1')\n",
    "np.linalg.cond(M)"
   ]
  },
  {
   "cell_type": "markdown",
   "id": "ee844a0d",
   "metadata": {},
   "source": [
    "### Answer\n",
    "The perturbation in input data is magnified by a factor of 4.62. Next, we can derive the following estimate of error in $x$:\n",
    "$$\\frac{||x - \\hat{x}||}{||x||} \\leq cond(A) \\frac{||b - \\hat{b}||}{||b||} = 4.62 \\cdot 0.01 = 0.0462.$$\n",
    "Thus we can guarantee a solution with an error of no more than 5%."
   ]
  },
  {
   "cell_type": "markdown",
   "id": "b77496ac",
   "metadata": {},
   "source": [
    "# Part B - Software calculations"
   ]
  },
  {
   "cell_type": "code",
   "execution_count": 3,
   "id": "593c788e",
   "metadata": {},
   "outputs": [],
   "source": [
    "df = pd.read_csv(r'network.csv', header=None)\n",
    "A = df.to_numpy()"
   ]
  },
  {
   "cell_type": "markdown",
   "id": "23662502",
   "metadata": {},
   "source": [
    "## (a)\n",
    "\n",
    "Solve the system $𝐴𝑥_i = 𝑏_i, 𝑖 = 1, … ,20$ in a loop, using linalg.solve. For\n",
    "simplicity, let the input pressures in all three nodes be equal to $i$, i.e. the loop\n",
    "number."
   ]
  },
  {
   "cell_type": "markdown",
   "id": "5e31dedf",
   "metadata": {},
   "source": [
    "### Calculation"
   ]
  },
  {
   "cell_type": "code",
   "execution_count": 4,
   "id": "67924865",
   "metadata": {
    "scrolled": true
   },
   "outputs": [],
   "source": [
    "time_a_start = process_time()\n",
    "for i in range(20):\n",
    "    b = np.zeros(4720)\n",
    "    b[0] = i\n",
    "    b[4599] = i\n",
    "    b[4665] = i\n",
    "    x = np.linalg.solve(A,b)\n",
    "time_a_stop = process_time()"
   ]
  },
  {
   "cell_type": "markdown",
   "id": "ade4c3c3",
   "metadata": {},
   "source": [
    "### Time"
   ]
  },
  {
   "cell_type": "code",
   "execution_count": 5,
   "id": "3e70ffbc",
   "metadata": {},
   "outputs": [
    {
     "name": "stdout",
     "output_type": "stream",
     "text": [
      "Time elapsed for calculation (a): 104.216798 seconds.\n"
     ]
    }
   ],
   "source": [
    "print(f'Time elapsed for calculation (a): {time_a_stop - time_a_start} seconds.')"
   ]
  },
  {
   "cell_type": "markdown",
   "id": "2a00db52",
   "metadata": {},
   "source": [
    "## (b)\n",
    "Repeat the same calculations, but use and take advantage of, the LU decomposition, forward and backward substitution."
   ]
  },
  {
   "cell_type": "markdown",
   "id": "b64b83ad",
   "metadata": {},
   "source": [
    "### Calculation"
   ]
  },
  {
   "cell_type": "code",
   "execution_count": 6,
   "id": "28f15658",
   "metadata": {},
   "outputs": [],
   "source": [
    "time_b_start = process_time()\n",
    "P, L, U = lu(A)\n",
    "for i in range(20):\n",
    "    b = np.zeros(4720)\n",
    "    b[0] = i\n",
    "    b[4599] = i\n",
    "    b[4665] = i\n",
    "    Pb = P.T @ b\n",
    "    y = solve_triangular(L, Pb, lower=True)\n",
    "    x = solve_triangular(U, y)\n",
    "time_b_stop = process_time()"
   ]
  },
  {
   "cell_type": "markdown",
   "id": "5ed3972a",
   "metadata": {},
   "source": [
    "### Time"
   ]
  },
  {
   "cell_type": "code",
   "execution_count": 7,
   "id": "86565668",
   "metadata": {},
   "outputs": [
    {
     "name": "stdout",
     "output_type": "stream",
     "text": [
      "Time elapsed for calculation (b): 11.263236000000006 seconds.\n"
     ]
    }
   ],
   "source": [
    "print(f'Time elapsed for calculation (b): {time_b_stop - time_b_start} seconds.')"
   ]
  },
  {
   "cell_type": "markdown",
   "id": "16d7ac60",
   "metadata": {},
   "source": [
    "## (c)\n",
    "Repeat the same calculations as in a), but this time without a loop. Store all $𝑏_i$ in a\n",
    "4720 × 20-matrix 𝐵, where $𝐵 = (𝑏_1 𝑏_2 ⋯ 𝑏_{20}$). Use solve as in a) but\n",
    "solve the systems $AX = B$ without a loop."
   ]
  },
  {
   "cell_type": "markdown",
   "id": "f905f3fa",
   "metadata": {},
   "source": [
    "### Calculation"
   ]
  },
  {
   "cell_type": "code",
   "execution_count": 8,
   "id": "f99c50ce",
   "metadata": {},
   "outputs": [],
   "source": [
    "b = np.zeros((4720,20))\n",
    "for i in range(20):\n",
    "    b[0][i] = i\n",
    "    b[4599][i] = i\n",
    "    b[4665][i] = i\n",
    "    \n",
    "time_c_start = process_time()\n",
    "x = np.linalg.solve(A,b)\n",
    "time_c_stop = process_time()"
   ]
  },
  {
   "cell_type": "markdown",
   "id": "01043d50",
   "metadata": {},
   "source": [
    "### Time"
   ]
  },
  {
   "cell_type": "code",
   "execution_count": 9,
   "id": "0b70bd6f",
   "metadata": {},
   "outputs": [
    {
     "name": "stdout",
     "output_type": "stream",
     "text": [
      "Time elapsed for calculation (c): 5.2247799999999955 seconds.\n"
     ]
    }
   ],
   "source": [
    "print(f'Time elapsed for calculation (c): {time_c_stop - time_c_start} seconds.')"
   ]
  },
  {
   "cell_type": "markdown",
   "id": "f3d7fb4d",
   "metadata": {},
   "source": [
    "## (d)\n",
    "Finally, repeat c) but use the so called sparse format and sparse solvers in the\n",
    "package scipy.sparse. This means that you store the matrices $A$ and $B$ in\n",
    "sparse format and use the sparse equation solver spsolve."
   ]
  },
  {
   "cell_type": "markdown",
   "id": "fbb05fbb",
   "metadata": {},
   "source": [
    "### Calculation"
   ]
  },
  {
   "cell_type": "code",
   "execution_count": 10,
   "id": "fa04db75",
   "metadata": {},
   "outputs": [],
   "source": [
    "time_d_start = process_time()\n",
    "sparse_A = csc_matrix(A)\n",
    "sparse_B = csc_matrix(b)\n",
    "x = spsolve(sparse_A, sparse_B)\n",
    "time_d_stop = process_time()"
   ]
  },
  {
   "cell_type": "markdown",
   "id": "20f6e8df",
   "metadata": {},
   "source": [
    "### Time"
   ]
  },
  {
   "cell_type": "code",
   "execution_count": 11,
   "id": "459b37d8",
   "metadata": {},
   "outputs": [
    {
     "name": "stdout",
     "output_type": "stream",
     "text": [
      "Time elapsed for calculation (d): 1.4693529999999981 seconds.\n"
     ]
    }
   ],
   "source": [
    "print(f'Time elapsed for calculation (d): {time_d_stop - time_d_start} seconds.')"
   ]
  },
  {
   "cell_type": "markdown",
   "id": "0b9f74c9",
   "metadata": {},
   "source": [
    "# Exercise 4\n",
    "How do we know the matrix is sparse? It’s hard to see when we have large matrices.\n",
    "One handy tool is to “spy” on the matrix, to plot only the non-zero elements as e.g.\n",
    "dots. Use matlabplotlib.pyplot.spy to “spy” on the matrix 𝐴 (it seems to\n",
    "be a good idea to use the option markersize=1, otherwise it’s hard to see the\n",
    "pattern). Is the matrix sparse? Save the plot and submit it."
   ]
  },
  {
   "cell_type": "code",
   "execution_count": 12,
   "id": "6af5473c",
   "metadata": {},
   "outputs": [
    {
     "data": {
      "text/plain": [
       "<matplotlib.lines.Line2D at 0x7ff0016585b0>"
      ]
     },
     "execution_count": 12,
     "metadata": {},
     "output_type": "execute_result"
    },
    {
     "data": {
      "image/png": "[encoded data removed]",
      "text/plain": [
       "<Figure size 640x480 with 1 Axes>"
      ]
     },
     "metadata": {},
     "output_type": "display_data"
    }
   ],
   "source": [
    "plt.spy(A, markersize=1)"
   ]
  },
  {
   "cell_type": "markdown",
   "id": "035f5005",
   "metadata": {},
   "source": [
    "### Answer\n",
    "We can clearly see from the plot that the matrix is sparse. The (non-zero) entries are tightly centered around its main diagonal and mostly empty (zero) everywhere else."
   ]
  },
  {
   "cell_type": "markdown",
   "id": "d50d4eb1",
   "metadata": {},
   "source": [
    "# Exercise 5\n",
    "What is sparse format? How is a matrix stored when we use this format? Create a\n",
    "little sparse matrix, store in the sparse format and print it on the screen. How is it\n",
    "actually stored?"
   ]
  },
  {
   "cell_type": "code",
   "execution_count": 13,
   "id": "3e592b16",
   "metadata": {},
   "outputs": [
    {
     "name": "stdout",
     "output_type": "stream",
     "text": [
      "  (1, 1)\t5\n",
      "  (2, 0)\t7\n",
      "  (2, 2)\t9\n"
     ]
    }
   ],
   "source": [
    "arr = np.array([[0,0,0],[0,5,0],[7,0,9]])\n",
    "print(csr_matrix(arr))"
   ]
  },
  {
   "cell_type": "markdown",
   "id": "5e99e969",
   "metadata": {},
   "source": [
    "### Answer\n",
    "When a matrix is sparse, i.e. contains more significantly more zero than non-zero values, storing such data in a two-dimensional matrix is inefficient both with regards to storage and matrix operations. Sparse format represents a matrix using only the matrix coordinates and value for each non-zero entry."
   ]
  },
  {
   "cell_type": "code",
   "execution_count": null,
   "id": "9ec2e77b",
   "metadata": {},
   "outputs": [],
   "source": []
  }
 ],
 "metadata": {
  "kernelspec": {
   "display_name": "Python 3 (ipykernel)",
   "language": "python",
   "name": "python3"
  },
  "language_info": {
   "codemirror_mode": {
    "name": "ipython",
    "version": 3
   },
   "file_extension": ".py",
   "mimetype": "text/x-python",
   "name": "python",
   "nbconvert_exporter": "python",
   "pygments_lexer": "ipython3",
   "version": "3.10.9"
  }
 },
 "nbformat": 4,
 "nbformat_minor": 5
}
