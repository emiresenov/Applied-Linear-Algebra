{
 "cells": [
  {
   "cell_type": "code",
   "execution_count": 1,
   "id": "3f1af203",
   "metadata": {},
   "outputs": [],
   "source": [
    "import numpy as np\n",
    "import pandas as pd\n",
    "import matplotlib.pyplot as plt\n",
    "from scipy.stats import ortho_group"
   ]
  },
  {
   "cell_type": "markdown",
   "id": "1aab0ba4",
   "metadata": {},
   "source": [
    "# A - Hand calculations"
   ]
  },
  {
   "cell_type": "markdown",
   "id": "76399ce8",
   "metadata": {},
   "source": [
    "## Exercise 1"
   ]
  },
  {
   "cell_type": "markdown",
   "id": "a6dfe0eb",
   "metadata": {},
   "source": [
    "Given the tiny data-set \n",
    "\n",
    "\\begin{center}\n",
    "    \\begin{tabular}{|l|lllll|}\n",
    "        \\hline$x$ & 8.1 & 10.0 & 11.2 & 12.7 & 13.0 \\\\\n",
    "        \\hline$y$ & 5.0 & 5.0 & 4.0 & 3.0 & 1.0 \\\\\n",
    "        \\hline\n",
    "    \\end{tabular}\n",
    "\\end{center}\n",
    "\n",
    "### a. \n",
    "\n",
    "Use the linear regression model $y=\\beta_0+\\beta_1 x$ and show the steps from the model to the Normal equations. Calculate (use Python) $\\operatorname{cond}_2(A)$ and $\\operatorname{cond}_2\\left(A^T A\\right)$. \n",
    "\n",
    "\n",
    "**Answer:** Let $x = x_{1}, \\ldots, x_{5}, y = y_{1}, \\ldots, y_{5}$, the linear \n",
    "regression model gives us the following system of equations\n",
    "\\begin{align*}\n",
    "    \\begin{cases}\n",
    "        y_1 = &\\beta_0 + \\beta_1 x_1 \\\\\n",
    "        &\\vdots \\\\\n",
    "        y_5 = &\\beta_1 + \\beta_1 x_5 \n",
    "    \\end{cases}\n",
    "    &\\Rightarrow \n",
    "    \\begin{pmatrix}\n",
    "        1 & x_1 \\\\\n",
    "        1 & x_2 \\\\\n",
    "        1 & x_3 \\\\\n",
    "        1 & x_4 \\\\\n",
    "        1 & x_5 \\\\\n",
    "    \\end{pmatrix}\n",
    "    \\begin{pmatrix}\n",
    "        \\beta_0 \\\\\n",
    "        \\beta_1\n",
    "    \\end{pmatrix}\n",
    "    = \n",
    "    \\begin{pmatrix}\n",
    "        y_1 \\\\\n",
    "        y_2 \\\\\n",
    "        y_3 \\\\\n",
    "        y_4 \\\\\n",
    "        y_5 \\\\\n",
    "    \\end{pmatrix} \\\\\n",
    "    &\\Rightarrow \n",
    "    \\underbrace{\n",
    "        \\begin{pmatrix}\n",
    "        1 & 8.1 \\\\\n",
    "        1 & 10.0 \\\\\n",
    "        1 & 11.2 \\\\\n",
    "        1 & 12.7 \\\\\n",
    "        1 & 13.0 \\\\\n",
    "    \\end{pmatrix}}_A\n",
    "    \\underbrace{\n",
    "        \\begin{pmatrix}\n",
    "            \\beta_0 \\\\\n",
    "            \\beta_1\n",
    "        \\end{pmatrix}}_\\beta\n",
    "    = \n",
    "    \\underbrace{\\begin{pmatrix}\n",
    "        5.0 \\\\\n",
    "        5.0 \\\\\n",
    "        4.0 \\\\\n",
    "        3.0 \\\\\n",
    "        1.0 \\\\\n",
    "    \\end{pmatrix}}_y.\n",
    "\\end{align*}\n",
    "\n",
    "\n",
    "\n",
    "With overdetermined equation systems, we can rarely find exact solutions. Indeed, the more \n",
    "overdetermined the system, the less likely it is to be solvable. We can find an approximate\n",
    "solution with least squares by projecting $y$ onto $\\mathbb{C}(A)$ with the normal equations\n",
    "$A^TA \\beta = A^T y$."
   ]
  },
  {
   "cell_type": "code",
   "execution_count": 2,
   "id": "8ae7f622",
   "metadata": {},
   "outputs": [
    {
     "name": "stdout",
     "output_type": "stream",
     "text": [
      "Condition number of matrix A: 69.28012237225526\n",
      "Condition number of matrix A^T*A: 4799.735355915177\n"
     ]
    }
   ],
   "source": [
    "A = np.matrix([[1, 8.1], [1, 10.0], [1, 11.2], [1, 12.7], [1, 13.0]])\n",
    "print(f'Condition number of matrix A: {np.linalg.cond(A)}')\n",
    "print(f'Condition number of matrix A^T*A: {np.linalg.cond(A.T@A)}')"
   ]
  },
  {
   "cell_type": "markdown",
   "id": "1c43d0ea",
   "metadata": {},
   "source": [
    "### b.\n",
    "\n",
    "Repeat a) but use the model\n",
    "$$\n",
    "y=\\beta_0+\\beta_1 \\frac{x-\\bar{x}}{\\sigma(x)}\n",
    "$$\n",
    "where $\\bar{x}$ is the mean (over $x$ ) and $\\sigma(x)$ is the standard deviation. \n",
    "(This is commonly used as data scaling, especially when working with multiple linear regression and there \n",
    " are different scales in the data set. It is a way transforming data to the same scale. But it has other \n",
    " effects too as you can see)."
   ]
  },
  {
   "cell_type": "markdown",
   "id": "6797e24e",
   "metadata": {},
   "source": [
    "**Answer:** We first calculate $\\Bar{x} \\: \\text{and} \\: \\sigma(x)$:\n",
    "$$\n",
    "\\Bar{x} = \\frac{1}{n} \\sum_{i=1}^n x_i = \\frac{1}{5} (8.1 + 10.0 + 11.2 + 12.7 + 13.0) = 11,\n",
    "$$\n",
    "\n",
    "\\begin{align*}\n",
    "    &\\sigma(x) = \\sqrt{\\frac{\\sum_{i=1}^n (x_i - \\Bar{x})^2 }{n-1}} \\\\\n",
    "    &= \\sqrt{\\frac{(8.1-11)^2 + (10.0 - 11)^2 + (11.2 - 11)^2 + (12.7 - 11)^2 + (13.0 - 11)^2}{4}} \\\\\n",
    "    &= 2.02.\n",
    "\\end{align*}\n",
    "\n",
    "With these values, we get that \n",
    "\\begin{align*}\n",
    "    A_{12} &= \\frac{8.1 - 11}{2.02} = -1.436 \\\\\n",
    "    A_{22} &= \\frac{10.0 - 11}{2.02} = -0.495 \\\\\n",
    "    A_{32} &= \\frac{11.2 - 11}{2.02} =  0.594 \\\\\n",
    "    A_{42} &= \\frac{12.7 - 11}{2.02} = 0.842 \\\\\n",
    "    A_{52} &= \\frac{13.0 - 11}{2.02} = 0.990,\n",
    "\\end{align*}\n",
    "\n",
    "and \n",
    "\n",
    "$$\n",
    "A = \n",
    "\\begin{pmatrix}\n",
    "    1 & -1.436 \\\\\n",
    "    1 & -0.495 \\\\\n",
    "    1 & 0.594 \\\\\n",
    "    1 & 0.842 \\\\\n",
    "    1 & 0.990 \\\\\n",
    "\\end{pmatrix}.\n",
    "$$"
   ]
  },
  {
   "cell_type": "code",
   "execution_count": 3,
   "id": "2e53be7a",
   "metadata": {},
   "outputs": [
    {
     "name": "stdout",
     "output_type": "stream",
     "text": [
      "Condition number of matrix A: 1.1358945974120829\n",
      "Condition number of matrix A^T*A: 1.290256536429958\n"
     ]
    }
   ],
   "source": [
    "A = np.matrix([[1, -1.436], [1, -0.495], [1, 0.594], [1, 0.842], [1, 0.990]])\n",
    "print(f'Condition number of matrix A: {np.linalg.cond(A)}')\n",
    "print(f'Condition number of matrix A^T*A: {np.linalg.cond(A.T@A)}')"
   ]
  },
  {
   "cell_type": "markdown",
   "id": "9ea93f20",
   "metadata": {},
   "source": [
    "## Exercise 2"
   ]
  },
  {
   "cell_type": "markdown",
   "id": "1e7cb3ce",
   "metadata": {},
   "source": [
    "What is the condition number, $\\operatorname{cond}_2(Q)$ of an orthogonal matrix $Q$ ? Check it in Python, \n",
    "and try to prove that the result is valid for any orthogonal matrix."
   ]
  },
  {
   "cell_type": "code",
   "execution_count": 4,
   "id": "eea0552e",
   "metadata": {},
   "outputs": [
    {
     "name": "stdout",
     "output_type": "stream",
     "text": [
      "[[1.00000000e+00 2.77555756e-17 0.00000000e+00]\n",
      " [2.77555756e-17 1.00000000e+00 5.55111512e-17]\n",
      " [0.00000000e+00 5.55111512e-17 1.00000000e+00]]\n",
      "Condition number of matrix Q^T*Q: 1.0000000000000007\n"
     ]
    }
   ],
   "source": [
    "Q = ortho_group.rvs(dim=3) # Generate random orthogonal matrix \n",
    "QTQ = Q.T@Q # Q^T * Q\n",
    "print(QTQ) # Check that it is the identity matrix\n",
    "print(f'Condition number of matrix Q^T*Q: {np.linalg.cond(QTQ)}')"
   ]
  },
  {
   "cell_type": "markdown",
   "id": "87fe9b69",
   "metadata": {},
   "source": [
    "*Proof.* We have that $\\text{cond}_2(Q) = ||Q||_2 \\cdot ||Q^{-1}||_2$, where the 2-norm has the property \n",
    "that $||Q||_2 = \\sqrt{\\lambda_{max}(Q^TQ)}$. If $Q$ is an \n",
    "orthogonal matrix then it fulfills the following two properties:\n",
    "\\begin{itemize}\n",
    "    \\item $Q^{-1} = Q^T$,\n",
    "    \\item $Q^TQ = QQ^T = I$, where $I$ is the identity matrix.\n",
    "\\end{itemize} \n",
    "Thus,\n",
    "\\begin{align*}\n",
    "    \\text{cond}_2(Q) &= ||Q||_2 \\cdot ||Q^{-1}||_2 = ||Q||_2 \\cdot ||Q^{T}||_2 \\\\\n",
    "    &= \\sqrt{\\lambda_{max}(Q^TQ)} \\cdot \\sqrt{\\lambda_{max}(QQ^T)} \\\\\n",
    "    &= \\sqrt{\\lambda_{max}(I)} \\cdot \\sqrt{\\lambda_{max}(I)} \\\\\n",
    "    &= \\sqrt{1} \\cdot \\sqrt{1} \\\\\n",
    "    &= 1. \\quad \\quad \\quad \\quad \\square\n",
    "\\end{align*} "
   ]
  },
  {
   "cell_type": "markdown",
   "id": "7f1dce82",
   "metadata": {},
   "source": [
    "# B - Software calculations"
   ]
  },
  {
   "cell_type": "code",
   "execution_count": 5,
   "id": "25fa8d18",
   "metadata": {},
   "outputs": [
    {
     "data": {
      "text/html": [
       "<div>\n",
       "<style scoped>\n",
       "    .dataframe tbody tr th:only-of-type {\n",
       "        vertical-align: middle;\n",
       "    }\n",
       "\n",
       "    .dataframe tbody tr th {\n",
       "        vertical-align: top;\n",
       "    }\n",
       "\n",
       "    .dataframe thead th {\n",
       "        text-align: right;\n",
       "    }\n",
       "</style>\n",
       "<table border=\"1\" class=\"dataframe\">\n",
       "  <thead>\n",
       "    <tr style=\"text-align: right;\">\n",
       "      <th></th>\n",
       "      <th>Country</th>\n",
       "      <th>Year</th>\n",
       "      <th>Status</th>\n",
       "      <th>Life expectancy</th>\n",
       "      <th>Adult Mortality</th>\n",
       "      <th>infant deaths</th>\n",
       "      <th>Alcohol</th>\n",
       "      <th>percentage expenditure</th>\n",
       "      <th>Hepatitis B</th>\n",
       "      <th>Measles</th>\n",
       "      <th>...</th>\n",
       "      <th>Polio</th>\n",
       "      <th>Total expenditure</th>\n",
       "      <th>Diphtheria</th>\n",
       "      <th>HIV/AIDS</th>\n",
       "      <th>GDP</th>\n",
       "      <th>Population</th>\n",
       "      <th>thinness  1-19 years</th>\n",
       "      <th>thinness 5-9 years</th>\n",
       "      <th>Income composition of resources</th>\n",
       "      <th>Schooling</th>\n",
       "    </tr>\n",
       "  </thead>\n",
       "  <tbody>\n",
       "    <tr>\n",
       "      <th>0</th>\n",
       "      <td>Afghanistan</td>\n",
       "      <td>2015</td>\n",
       "      <td>Developing</td>\n",
       "      <td>65.0</td>\n",
       "      <td>263.0</td>\n",
       "      <td>62</td>\n",
       "      <td>0.01</td>\n",
       "      <td>71.279624</td>\n",
       "      <td>65.0</td>\n",
       "      <td>1154</td>\n",
       "      <td>...</td>\n",
       "      <td>6.0</td>\n",
       "      <td>8.16</td>\n",
       "      <td>65.0</td>\n",
       "      <td>0.1</td>\n",
       "      <td>584.259210</td>\n",
       "      <td>33736494.0</td>\n",
       "      <td>17.2</td>\n",
       "      <td>17.3</td>\n",
       "      <td>0.479</td>\n",
       "      <td>10.1</td>\n",
       "    </tr>\n",
       "    <tr>\n",
       "      <th>1</th>\n",
       "      <td>Afghanistan</td>\n",
       "      <td>2014</td>\n",
       "      <td>Developing</td>\n",
       "      <td>59.9</td>\n",
       "      <td>271.0</td>\n",
       "      <td>64</td>\n",
       "      <td>0.01</td>\n",
       "      <td>73.523582</td>\n",
       "      <td>62.0</td>\n",
       "      <td>492</td>\n",
       "      <td>...</td>\n",
       "      <td>58.0</td>\n",
       "      <td>8.18</td>\n",
       "      <td>62.0</td>\n",
       "      <td>0.1</td>\n",
       "      <td>612.696514</td>\n",
       "      <td>327582.0</td>\n",
       "      <td>17.5</td>\n",
       "      <td>17.5</td>\n",
       "      <td>0.476</td>\n",
       "      <td>10.0</td>\n",
       "    </tr>\n",
       "    <tr>\n",
       "      <th>2</th>\n",
       "      <td>Afghanistan</td>\n",
       "      <td>2013</td>\n",
       "      <td>Developing</td>\n",
       "      <td>59.9</td>\n",
       "      <td>268.0</td>\n",
       "      <td>66</td>\n",
       "      <td>0.01</td>\n",
       "      <td>73.219243</td>\n",
       "      <td>64.0</td>\n",
       "      <td>430</td>\n",
       "      <td>...</td>\n",
       "      <td>62.0</td>\n",
       "      <td>8.13</td>\n",
       "      <td>64.0</td>\n",
       "      <td>0.1</td>\n",
       "      <td>631.744976</td>\n",
       "      <td>31731688.0</td>\n",
       "      <td>17.7</td>\n",
       "      <td>17.7</td>\n",
       "      <td>0.470</td>\n",
       "      <td>9.9</td>\n",
       "    </tr>\n",
       "    <tr>\n",
       "      <th>3</th>\n",
       "      <td>Afghanistan</td>\n",
       "      <td>2012</td>\n",
       "      <td>Developing</td>\n",
       "      <td>59.5</td>\n",
       "      <td>272.0</td>\n",
       "      <td>69</td>\n",
       "      <td>0.01</td>\n",
       "      <td>78.184215</td>\n",
       "      <td>67.0</td>\n",
       "      <td>2787</td>\n",
       "      <td>...</td>\n",
       "      <td>67.0</td>\n",
       "      <td>8.52</td>\n",
       "      <td>67.0</td>\n",
       "      <td>0.1</td>\n",
       "      <td>669.959000</td>\n",
       "      <td>3696958.0</td>\n",
       "      <td>17.9</td>\n",
       "      <td>18.0</td>\n",
       "      <td>0.463</td>\n",
       "      <td>9.8</td>\n",
       "    </tr>\n",
       "    <tr>\n",
       "      <th>4</th>\n",
       "      <td>Afghanistan</td>\n",
       "      <td>2011</td>\n",
       "      <td>Developing</td>\n",
       "      <td>59.2</td>\n",
       "      <td>275.0</td>\n",
       "      <td>71</td>\n",
       "      <td>0.01</td>\n",
       "      <td>7.097109</td>\n",
       "      <td>68.0</td>\n",
       "      <td>3013</td>\n",
       "      <td>...</td>\n",
       "      <td>68.0</td>\n",
       "      <td>7.87</td>\n",
       "      <td>68.0</td>\n",
       "      <td>0.1</td>\n",
       "      <td>63.537231</td>\n",
       "      <td>2978599.0</td>\n",
       "      <td>18.2</td>\n",
       "      <td>18.2</td>\n",
       "      <td>0.454</td>\n",
       "      <td>9.5</td>\n",
       "    </tr>\n",
       "    <tr>\n",
       "      <th>...</th>\n",
       "      <td>...</td>\n",
       "      <td>...</td>\n",
       "      <td>...</td>\n",
       "      <td>...</td>\n",
       "      <td>...</td>\n",
       "      <td>...</td>\n",
       "      <td>...</td>\n",
       "      <td>...</td>\n",
       "      <td>...</td>\n",
       "      <td>...</td>\n",
       "      <td>...</td>\n",
       "      <td>...</td>\n",
       "      <td>...</td>\n",
       "      <td>...</td>\n",
       "      <td>...</td>\n",
       "      <td>...</td>\n",
       "      <td>...</td>\n",
       "      <td>...</td>\n",
       "      <td>...</td>\n",
       "      <td>...</td>\n",
       "      <td>...</td>\n",
       "    </tr>\n",
       "    <tr>\n",
       "      <th>2933</th>\n",
       "      <td>Zimbabwe</td>\n",
       "      <td>2004</td>\n",
       "      <td>Developing</td>\n",
       "      <td>44.3</td>\n",
       "      <td>723.0</td>\n",
       "      <td>27</td>\n",
       "      <td>4.36</td>\n",
       "      <td>0.000000</td>\n",
       "      <td>68.0</td>\n",
       "      <td>31</td>\n",
       "      <td>...</td>\n",
       "      <td>67.0</td>\n",
       "      <td>7.13</td>\n",
       "      <td>65.0</td>\n",
       "      <td>33.6</td>\n",
       "      <td>454.366654</td>\n",
       "      <td>12777511.0</td>\n",
       "      <td>9.4</td>\n",
       "      <td>9.4</td>\n",
       "      <td>0.407</td>\n",
       "      <td>9.2</td>\n",
       "    </tr>\n",
       "    <tr>\n",
       "      <th>2934</th>\n",
       "      <td>Zimbabwe</td>\n",
       "      <td>2003</td>\n",
       "      <td>Developing</td>\n",
       "      <td>44.5</td>\n",
       "      <td>715.0</td>\n",
       "      <td>26</td>\n",
       "      <td>4.06</td>\n",
       "      <td>0.000000</td>\n",
       "      <td>7.0</td>\n",
       "      <td>998</td>\n",
       "      <td>...</td>\n",
       "      <td>7.0</td>\n",
       "      <td>6.52</td>\n",
       "      <td>68.0</td>\n",
       "      <td>36.7</td>\n",
       "      <td>453.351155</td>\n",
       "      <td>12633897.0</td>\n",
       "      <td>9.8</td>\n",
       "      <td>9.9</td>\n",
       "      <td>0.418</td>\n",
       "      <td>9.5</td>\n",
       "    </tr>\n",
       "    <tr>\n",
       "      <th>2935</th>\n",
       "      <td>Zimbabwe</td>\n",
       "      <td>2002</td>\n",
       "      <td>Developing</td>\n",
       "      <td>44.8</td>\n",
       "      <td>73.0</td>\n",
       "      <td>25</td>\n",
       "      <td>4.43</td>\n",
       "      <td>0.000000</td>\n",
       "      <td>73.0</td>\n",
       "      <td>304</td>\n",
       "      <td>...</td>\n",
       "      <td>73.0</td>\n",
       "      <td>6.53</td>\n",
       "      <td>71.0</td>\n",
       "      <td>39.8</td>\n",
       "      <td>57.348340</td>\n",
       "      <td>125525.0</td>\n",
       "      <td>1.2</td>\n",
       "      <td>1.3</td>\n",
       "      <td>0.427</td>\n",
       "      <td>10.0</td>\n",
       "    </tr>\n",
       "    <tr>\n",
       "      <th>2936</th>\n",
       "      <td>Zimbabwe</td>\n",
       "      <td>2001</td>\n",
       "      <td>Developing</td>\n",
       "      <td>45.3</td>\n",
       "      <td>686.0</td>\n",
       "      <td>25</td>\n",
       "      <td>1.72</td>\n",
       "      <td>0.000000</td>\n",
       "      <td>76.0</td>\n",
       "      <td>529</td>\n",
       "      <td>...</td>\n",
       "      <td>76.0</td>\n",
       "      <td>6.16</td>\n",
       "      <td>75.0</td>\n",
       "      <td>42.1</td>\n",
       "      <td>548.587312</td>\n",
       "      <td>12366165.0</td>\n",
       "      <td>1.6</td>\n",
       "      <td>1.7</td>\n",
       "      <td>0.427</td>\n",
       "      <td>9.8</td>\n",
       "    </tr>\n",
       "    <tr>\n",
       "      <th>2937</th>\n",
       "      <td>Zimbabwe</td>\n",
       "      <td>2000</td>\n",
       "      <td>Developing</td>\n",
       "      <td>46.0</td>\n",
       "      <td>665.0</td>\n",
       "      <td>24</td>\n",
       "      <td>1.68</td>\n",
       "      <td>0.000000</td>\n",
       "      <td>79.0</td>\n",
       "      <td>1483</td>\n",
       "      <td>...</td>\n",
       "      <td>78.0</td>\n",
       "      <td>7.10</td>\n",
       "      <td>78.0</td>\n",
       "      <td>43.5</td>\n",
       "      <td>547.358878</td>\n",
       "      <td>12222251.0</td>\n",
       "      <td>11.0</td>\n",
       "      <td>11.2</td>\n",
       "      <td>0.434</td>\n",
       "      <td>9.8</td>\n",
       "    </tr>\n",
       "  </tbody>\n",
       "</table>\n",
       "<p>2938 rows × 22 columns</p>\n",
       "</div>"
      ],
      "text/plain": [
       "          Country  Year      Status  Life expectancy   Adult Mortality  \\\n",
       "0     Afghanistan  2015  Developing              65.0            263.0   \n",
       "1     Afghanistan  2014  Developing              59.9            271.0   \n",
       "2     Afghanistan  2013  Developing              59.9            268.0   \n",
       "3     Afghanistan  2012  Developing              59.5            272.0   \n",
       "4     Afghanistan  2011  Developing              59.2            275.0   \n",
       "...           ...   ...         ...               ...              ...   \n",
       "2933     Zimbabwe  2004  Developing              44.3            723.0   \n",
       "2934     Zimbabwe  2003  Developing              44.5            715.0   \n",
       "2935     Zimbabwe  2002  Developing              44.8             73.0   \n",
       "2936     Zimbabwe  2001  Developing              45.3            686.0   \n",
       "2937     Zimbabwe  2000  Developing              46.0            665.0   \n",
       "\n",
       "      infant deaths  Alcohol  percentage expenditure  Hepatitis B  Measles   \\\n",
       "0                62     0.01               71.279624         65.0      1154   \n",
       "1                64     0.01               73.523582         62.0       492   \n",
       "2                66     0.01               73.219243         64.0       430   \n",
       "3                69     0.01               78.184215         67.0      2787   \n",
       "4                71     0.01                7.097109         68.0      3013   \n",
       "...             ...      ...                     ...          ...       ...   \n",
       "2933             27     4.36                0.000000         68.0        31   \n",
       "2934             26     4.06                0.000000          7.0       998   \n",
       "2935             25     4.43                0.000000         73.0       304   \n",
       "2936             25     1.72                0.000000         76.0       529   \n",
       "2937             24     1.68                0.000000         79.0      1483   \n",
       "\n",
       "      ...  Polio  Total expenditure  Diphtheria    HIV/AIDS         GDP  \\\n",
       "0     ...    6.0               8.16         65.0        0.1  584.259210   \n",
       "1     ...   58.0               8.18         62.0        0.1  612.696514   \n",
       "2     ...   62.0               8.13         64.0        0.1  631.744976   \n",
       "3     ...   67.0               8.52         67.0        0.1  669.959000   \n",
       "4     ...   68.0               7.87         68.0        0.1   63.537231   \n",
       "...   ...    ...                ...          ...        ...         ...   \n",
       "2933  ...   67.0               7.13         65.0       33.6  454.366654   \n",
       "2934  ...    7.0               6.52         68.0       36.7  453.351155   \n",
       "2935  ...   73.0               6.53         71.0       39.8   57.348340   \n",
       "2936  ...   76.0               6.16         75.0       42.1  548.587312   \n",
       "2937  ...   78.0               7.10         78.0       43.5  547.358878   \n",
       "\n",
       "      Population   thinness  1-19 years   thinness 5-9 years  \\\n",
       "0     33736494.0                   17.2                 17.3   \n",
       "1       327582.0                   17.5                 17.5   \n",
       "2     31731688.0                   17.7                 17.7   \n",
       "3      3696958.0                   17.9                 18.0   \n",
       "4      2978599.0                   18.2                 18.2   \n",
       "...          ...                    ...                  ...   \n",
       "2933  12777511.0                    9.4                  9.4   \n",
       "2934  12633897.0                    9.8                  9.9   \n",
       "2935    125525.0                    1.2                  1.3   \n",
       "2936  12366165.0                    1.6                  1.7   \n",
       "2937  12222251.0                   11.0                 11.2   \n",
       "\n",
       "      Income composition of resources  Schooling  \n",
       "0                               0.479       10.1  \n",
       "1                               0.476       10.0  \n",
       "2                               0.470        9.9  \n",
       "3                               0.463        9.8  \n",
       "4                               0.454        9.5  \n",
       "...                               ...        ...  \n",
       "2933                            0.407        9.2  \n",
       "2934                            0.418        9.5  \n",
       "2935                            0.427       10.0  \n",
       "2936                            0.427        9.8  \n",
       "2937                            0.434        9.8  \n",
       "\n",
       "[2938 rows x 22 columns]"
      ]
     },
     "execution_count": 5,
     "metadata": {},
     "output_type": "execute_result"
    }
   ],
   "source": [
    "df = pd.read_csv(r'LifeExpectancyData.csv')\n",
    "df"
   ]
  },
  {
   "cell_type": "code",
   "execution_count": 6,
   "id": "8758b529",
   "metadata": {},
   "outputs": [
    {
     "data": {
      "text/html": [
       "<div>\n",
       "<style scoped>\n",
       "    .dataframe tbody tr th:only-of-type {\n",
       "        vertical-align: middle;\n",
       "    }\n",
       "\n",
       "    .dataframe tbody tr th {\n",
       "        vertical-align: top;\n",
       "    }\n",
       "\n",
       "    .dataframe thead th {\n",
       "        text-align: right;\n",
       "    }\n",
       "</style>\n",
       "<table border=\"1\" class=\"dataframe\">\n",
       "  <thead>\n",
       "    <tr style=\"text-align: right;\">\n",
       "      <th></th>\n",
       "      <th>Life expectancy</th>\n",
       "      <th>Schooling</th>\n",
       "    </tr>\n",
       "  </thead>\n",
       "  <tbody>\n",
       "    <tr>\n",
       "      <th>0</th>\n",
       "      <td>65.0</td>\n",
       "      <td>10.1</td>\n",
       "    </tr>\n",
       "    <tr>\n",
       "      <th>1</th>\n",
       "      <td>59.9</td>\n",
       "      <td>10.0</td>\n",
       "    </tr>\n",
       "    <tr>\n",
       "      <th>2</th>\n",
       "      <td>59.9</td>\n",
       "      <td>9.9</td>\n",
       "    </tr>\n",
       "    <tr>\n",
       "      <th>3</th>\n",
       "      <td>59.5</td>\n",
       "      <td>9.8</td>\n",
       "    </tr>\n",
       "    <tr>\n",
       "      <th>4</th>\n",
       "      <td>59.2</td>\n",
       "      <td>9.5</td>\n",
       "    </tr>\n",
       "    <tr>\n",
       "      <th>...</th>\n",
       "      <td>...</td>\n",
       "      <td>...</td>\n",
       "    </tr>\n",
       "    <tr>\n",
       "      <th>2933</th>\n",
       "      <td>44.3</td>\n",
       "      <td>9.2</td>\n",
       "    </tr>\n",
       "    <tr>\n",
       "      <th>2934</th>\n",
       "      <td>44.5</td>\n",
       "      <td>9.5</td>\n",
       "    </tr>\n",
       "    <tr>\n",
       "      <th>2935</th>\n",
       "      <td>44.8</td>\n",
       "      <td>10.0</td>\n",
       "    </tr>\n",
       "    <tr>\n",
       "      <th>2936</th>\n",
       "      <td>45.3</td>\n",
       "      <td>9.8</td>\n",
       "    </tr>\n",
       "    <tr>\n",
       "      <th>2937</th>\n",
       "      <td>46.0</td>\n",
       "      <td>9.8</td>\n",
       "    </tr>\n",
       "  </tbody>\n",
       "</table>\n",
       "<p>2938 rows × 2 columns</p>\n",
       "</div>"
      ],
      "text/plain": [
       "      Life expectancy   Schooling\n",
       "0                 65.0       10.1\n",
       "1                 59.9       10.0\n",
       "2                 59.9        9.9\n",
       "3                 59.5        9.8\n",
       "4                 59.2        9.5\n",
       "...                ...        ...\n",
       "2933              44.3        9.2\n",
       "2934              44.5        9.5\n",
       "2935              44.8       10.0\n",
       "2936              45.3        9.8\n",
       "2937              46.0        9.8\n",
       "\n",
       "[2938 rows x 2 columns]"
      ]
     },
     "execution_count": 6,
     "metadata": {},
     "output_type": "execute_result"
    }
   ],
   "source": [
    "analysis = df[['Life expectancy ', 'Schooling']]\n",
    "analysis"
   ]
  },
  {
   "cell_type": "code",
   "execution_count": 22,
   "id": "15c08135",
   "metadata": {},
   "outputs": [
    {
     "data": {
      "image/png": "[encoded data removed]",
      "text/plain": [
       "<Figure size 640x480 with 1 Axes>"
      ]
     },
     "metadata": {},
     "output_type": "display_data"
    }
   ],
   "source": [
    "x_unfiltered = analysis[\"Schooling\"].to_numpy()\n",
    "y_unfiltered = analysis[\"Life expectancy \"].to_numpy()\n",
    "\n",
    "# Drop nan from x where both x and y are nan\n",
    "x = x_unfiltered[~(np.isnan(x_unfiltered) | np.isnan(y_unfiltered))]\n",
    "\n",
    "# Drop nan from y where both x and y are nan\n",
    "y = y_unfiltered[~(np.isnan(x_unfiltered) | np.isnan(y_unfiltered))]\n",
    "\n",
    "plt.scatter(x,y, s=3)\n",
    "plt.show()"
   ]
  },
  {
   "cell_type": "markdown",
   "id": "7917fbd8",
   "metadata": {},
   "source": [
    "### b.\n",
    "Analyze the dependency between life expectancy and schooling. Use quadratic\n",
    "regression, the model $y = \\beta_0 + \\beta_1 x + \\beta_2 x^2$, where schooling is the dependent\n",
    "variable (x) and life expectancy the dependent variable (y).\n",
    "Solve the least squares problem in two different ways, by forming and solving the\n",
    "normal equations ($A^TA\\hat{x} = A^T y$) and also via QR-decomposition, respectively.\n",
    "Plot the polynomials together with the data set (use e.g. **numpy.polyval** in\n",
    "Python to evaluate the polynomial)."
   ]
  },
  {
   "cell_type": "markdown",
   "id": "0d6a09ee",
   "metadata": {},
   "source": [
    "**Answer:** Using the normal equations:"
   ]
  },
  {
   "cell_type": "code",
   "execution_count": 8,
   "id": "19b79aca",
   "metadata": {},
   "outputs": [
    {
     "data": {
      "text/plain": [
       "array([[  1.  ,  10.1 , 102.01],\n",
       "       [  1.  ,  10.  , 100.  ],\n",
       "       [  1.  ,   9.9 ,  98.01],\n",
       "       ...,\n",
       "       [  1.  ,  10.  , 100.  ],\n",
       "       [  1.  ,   9.8 ,  96.04],\n",
       "       [  1.  ,   9.8 ,  96.04]])"
      ]
     },
     "execution_count": 8,
     "metadata": {},
     "output_type": "execute_result"
    }
   ],
   "source": [
    "x\n",
    "A = np.vander(x, 3, increasing=True) # Creates the polynomial matrix\n",
    "A"
   ]
  },
  {
   "cell_type": "code",
   "execution_count": 9,
   "id": "b76a7c00",
   "metadata": {},
   "outputs": [
    {
     "data": {
      "text/plain": [
       "array([51.86257553,  0.54042781,  0.07089593])"
      ]
     },
     "execution_count": 9,
     "metadata": {},
     "output_type": "execute_result"
    }
   ],
   "source": [
    "np.linalg.solve(A.T@A, A.T@y)"
   ]
  },
  {
   "cell_type": "markdown",
   "id": "934ec552",
   "metadata": {},
   "source": [
    "Next, using QR-decomposition:"
   ]
  },
  {
   "cell_type": "code",
   "execution_count": 10,
   "id": "bd2d9291",
   "metadata": {},
   "outputs": [
    {
     "name": "stdout",
     "output_type": "stream",
     "text": [
      "[[-0.01900715 -0.01079154 -0.01214098]\n",
      " [-0.01900715 -0.01135962 -0.01193172]\n",
      " [-0.01900715 -0.01192771 -0.01170097]\n",
      " ...\n",
      " [-0.01900715 -0.01135962 -0.01193172]\n",
      " [-0.01900715 -0.01249579 -0.01144872]\n",
      " [-0.01900715 -0.01249579 -0.01144872]]\n",
      "[[  -52.61178575  -631.32242187 -8164.60977063]\n",
      " [    0.           176.03039408  3880.89904321]\n",
      " [    0.             0.           930.32667422]]\n"
     ]
    }
   ],
   "source": [
    "Q, R = np.linalg.qr(A, mode=\"reduced\")\n",
    "\n",
    "print(Q)\n",
    "print(R)"
   ]
  },
  {
   "cell_type": "code",
   "execution_count": 11,
   "id": "de99e89a",
   "metadata": {},
   "outputs": [
    {
     "data": {
      "text/plain": [
       "array([51.86257553,  0.54042781,  0.07089593])"
      ]
     },
     "execution_count": 11,
     "metadata": {},
     "output_type": "execute_result"
    }
   ],
   "source": [
    "x_hat = np.linalg.solve(R, Q.T@y)\n",
    "x_hat"
   ]
  },
  {
   "cell_type": "code",
   "execution_count": 24,
   "id": "3451c73c",
   "metadata": {},
   "outputs": [
    {
     "name": "stdout",
     "output_type": "stream",
     "text": [
      "[64.55299053 64.35644693 64.16132124 ... 64.35644693 63.96761347\n",
      " 63.96761347] [10.1 10.   9.9 ... 10.   9.8  9.8]\n"
     ]
    }
   ],
   "source": [
    "model = A @ x_hat\n",
    "print(model, x)"
   ]
  },
  {
   "cell_type": "code",
   "execution_count": 28,
   "id": "bc7c7a1d",
   "metadata": {},
   "outputs": [
    {
     "data": {
      "image/png": "[encoded data removed]",
      "text/plain": [
       "<Figure size 640x480 with 1 Axes>"
      ]
     },
     "metadata": {},
     "output_type": "display_data"
    }
   ],
   "source": [
    "permut = x.argsort() # Obtain sorted permutation for line plot\n",
    "plt.plot(x[permut], model[permut], color=\"red\", linewidth=3)\n",
    "plt.scatter(x,y, s=4)\n",
    "plt.show()"
   ]
  },
  {
   "cell_type": "code",
   "execution_count": null,
   "id": "c4ee920c",
   "metadata": {},
   "outputs": [],
   "source": []
  },
  {
   "cell_type": "code",
   "execution_count": null,
   "id": "57914576",
   "metadata": {},
   "outputs": [],
   "source": []
  }
 ],
 "metadata": {
  "authors": [
   {
    "name": "Emir Esenov"
   }
  ],
  "kernelspec": {
   "display_name": "Python 3 (ipykernel)",
   "language": "python",
   "name": "python3"
  },
  "language_info": {
   "codemirror_mode": {
    "name": "ipython",
    "version": 3
   },
   "file_extension": ".py",
   "mimetype": "text/x-python",
   "name": "python",
   "nbconvert_exporter": "python",
   "pygments_lexer": "ipython3",
   "version": "3.10.9"
  }
 },
 "nbformat": 4,
 "nbformat_minor": 5
}
