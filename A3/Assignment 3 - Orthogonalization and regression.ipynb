{
 "cells": [
  {
   "cell_type": "code",
   "execution_count": 1,
   "id": "793bee22",
   "metadata": {},
   "outputs": [],
   "source": [
    "import numpy as np\n",
    "import pandas as pd\n",
    "import matplotlib.pyplot as plt\n",
    "from scipy.stats import ortho_group\n",
    "from scipy.linalg import solve_triangular\n",
    "import seaborn as sns"
   ]
  },
  {
   "cell_type": "markdown",
   "id": "1aab0ba4",
   "metadata": {},
   "source": [
    "# A - Hand calculations"
   ]
  },
  {
   "cell_type": "markdown",
   "id": "76399ce8",
   "metadata": {},
   "source": [
    "## Exercise 1"
   ]
  },
  {
   "cell_type": "markdown",
   "id": "a6dfe0eb",
   "metadata": {},
   "source": [
    "Given the tiny data-set \n",
    "\n",
    "\\begin{center}\n",
    "    \\begin{tabular}{|l|lllll|}\n",
    "        \\hline$x$ & 8.1 & 10.0 & 11.2 & 12.7 & 13.0 \\\\\n",
    "        \\hline$y$ & 5.0 & 5.0 & 4.0 & 3.0 & 1.0 \\\\\n",
    "        \\hline\n",
    "    \\end{tabular}\n",
    "\\end{center}\n",
    "\n",
    "### a. \n",
    "\n",
    "Use the linear regression model $y=\\beta_0+\\beta_1 x$ and show the steps from the model to the Normal equations. Calculate (use Python) $\\operatorname{cond}_2(A)$ and $\\operatorname{cond}_2\\left(A^T A\\right)$. \n",
    "\n",
    "\n",
    "**Answer:** Let $x = x_{1}, \\ldots, x_{5}, y = y_{1}, \\ldots, y_{5}$, the linear \n",
    "regression model gives us the following system of equations\n",
    "\\begin{align*}\n",
    "    \\begin{cases}\n",
    "        y_1 = &\\beta_0 + \\beta_1 x_1 \\\\\n",
    "        &\\vdots \\\\\n",
    "        y_5 = &\\beta_1 + \\beta_1 x_5 \n",
    "    \\end{cases}\n",
    "    &\\Rightarrow \n",
    "    \\begin{pmatrix}\n",
    "        1 & x_1 \\\\\n",
    "        1 & x_2 \\\\\n",
    "        1 & x_3 \\\\\n",
    "        1 & x_4 \\\\\n",
    "        1 & x_5 \\\\\n",
    "    \\end{pmatrix}\n",
    "    \\begin{pmatrix}\n",
    "        \\beta_0 \\\\\n",
    "        \\beta_1\n",
    "    \\end{pmatrix}\n",
    "    = \n",
    "    \\begin{pmatrix}\n",
    "        y_1 \\\\\n",
    "        y_2 \\\\\n",
    "        y_3 \\\\\n",
    "        y_4 \\\\\n",
    "        y_5 \\\\\n",
    "    \\end{pmatrix} \\\\\n",
    "    &\\Rightarrow \n",
    "    \\underbrace{\n",
    "        \\begin{pmatrix}\n",
    "        1 & 8.1 \\\\\n",
    "        1 & 10.0 \\\\\n",
    "        1 & 11.2 \\\\\n",
    "        1 & 12.7 \\\\\n",
    "        1 & 13.0 \\\\\n",
    "    \\end{pmatrix}}_A\n",
    "    \\underbrace{\n",
    "        \\begin{pmatrix}\n",
    "            \\beta_0 \\\\\n",
    "            \\beta_1\n",
    "        \\end{pmatrix}}_\\beta\n",
    "    = \n",
    "    \\underbrace{\\begin{pmatrix}\n",
    "        5.0 \\\\\n",
    "        5.0 \\\\\n",
    "        4.0 \\\\\n",
    "        3.0 \\\\\n",
    "        1.0 \\\\\n",
    "    \\end{pmatrix}}_y.\n",
    "\\end{align*}\n",
    "\n",
    "\n",
    "\n",
    "With overdetermined equation systems, we can rarely find exact solutions. Indeed, the more \n",
    "overdetermined the system, the less likely it is to be solvable. We can find an approximate\n",
    "solution with least squares by projecting $y$ onto $\\mathbb{C}(A)$ with the normal equations\n",
    "$A^TA \\beta = A^T y$."
   ]
  },
  {
   "cell_type": "code",
   "execution_count": 2,
   "id": "8ae7f622",
   "metadata": {},
   "outputs": [
    {
     "name": "stdout",
     "output_type": "stream",
     "text": [
      "Condition number of matrix A: 69.28012237225526\n",
      "Condition number of matrix A^T*A: 4799.735355915177\n"
     ]
    }
   ],
   "source": [
    "A = np.matrix([[1, 8.1], [1, 10.0], [1, 11.2], [1, 12.7], [1, 13.0]])\n",
    "print(f'Condition number of matrix A: {np.linalg.cond(A)}')\n",
    "print(f'Condition number of matrix A^T*A: {np.linalg.cond(A.T@A)}')"
   ]
  },
  {
   "cell_type": "markdown",
   "id": "e3480946",
   "metadata": {},
   "source": [
    "### b.\n",
    "\n",
    "Repeat a) but use the model\n",
    "$$\n",
    "y=\\beta_0+\\beta_1 \\frac{x-\\bar{x}}{\\sigma(x)}\n",
    "$$\n",
    "where $\\bar{x}$ is the mean (over $x$ ) and $\\sigma(x)$ is the standard deviation. \n",
    "(This is commonly used as data scaling, especially when working with multiple linear regression and there \n",
    " are different scales in the data set. It is a way transforming data to the same scale. But it has other \n",
    " effects too as you can see)."
   ]
  },
  {
   "cell_type": "markdown",
   "id": "f609e6b9",
   "metadata": {},
   "source": [
    "**Answer:** We first calculate $\\Bar{x} \\: \\text{and} \\: \\sigma(x)$:\n",
    "$$\n",
    "\\Bar{x} = \\frac{1}{n} \\sum_{i=1}^n x_i = \\frac{1}{5} (8.1 + 10.0 + 11.2 + 12.7 + 13.0) = 11,\n",
    "$$\n",
    "\n",
    "\\begin{align*}\n",
    "    &\\sigma(x) = \\sqrt{\\frac{\\sum_{i=1}^n (x_i - \\Bar{x})^2 }{n-1}} \\\\\n",
    "    &= \\sqrt{\\frac{(8.1-11)^2 + (10.0 - 11)^2 + (11.2 - 11)^2 + (12.7 - 11)^2 + (13.0 - 11)^2}{4}} \\\\\n",
    "    &= 2.02.\n",
    "\\end{align*}\n",
    "\n",
    "With these values, we get that \n",
    "\\begin{align*}\n",
    "    A_{12} &= \\frac{8.1 - 11}{2.02} = -1.436 \\\\\n",
    "    A_{22} &= \\frac{10.0 - 11}{2.02} = -0.495 \\\\\n",
    "    A_{32} &= \\frac{11.2 - 11}{2.02} =  0.594 \\\\\n",
    "    A_{42} &= \\frac{12.7 - 11}{2.02} = 0.842 \\\\\n",
    "    A_{52} &= \\frac{13.0 - 11}{2.02} = 0.990,\n",
    "\\end{align*}\n",
    "\n",
    "and \n",
    "\n",
    "$$\n",
    "A = \n",
    "\\begin{pmatrix}\n",
    "    1 & -1.436 \\\\\n",
    "    1 & -0.495 \\\\\n",
    "    1 & 0.594 \\\\\n",
    "    1 & 0.842 \\\\\n",
    "    1 & 0.990 \\\\\n",
    "\\end{pmatrix}.\n",
    "$$"
   ]
  },
  {
   "cell_type": "code",
   "execution_count": 3,
   "id": "2e53be7a",
   "metadata": {},
   "outputs": [
    {
     "name": "stdout",
     "output_type": "stream",
     "text": [
      "Condition number of matrix A: 1.1358945974120829\n",
      "Condition number of matrix A^T*A: 1.290256536429958\n"
     ]
    }
   ],
   "source": [
    "A = np.matrix([[1, -1.436], [1, -0.495], [1, 0.594], [1, 0.842], [1, 0.990]])\n",
    "print(f'Condition number of matrix A: {np.linalg.cond(A)}')\n",
    "print(f'Condition number of matrix A^T*A: {np.linalg.cond(A.T@A)}')"
   ]
  },
  {
   "cell_type": "markdown",
   "id": "9ea93f20",
   "metadata": {},
   "source": [
    "## Exercise 2"
   ]
  },
  {
   "cell_type": "markdown",
   "id": "9bdecfa1",
   "metadata": {},
   "source": [
    "What is the condition number, $\\operatorname{cond}_2(Q)$ of an orthogonal matrix $Q$ ? Check it in Python, \n",
    "and try to prove that the result is valid for any orthogonal matrix."
   ]
  },
  {
   "cell_type": "code",
   "execution_count": 4,
   "id": "32bd00f0",
   "metadata": {},
   "outputs": [
    {
     "name": "stdout",
     "output_type": "stream",
     "text": [
      "[[ 1.00000000e+00  2.67147415e-16  5.55111512e-17]\n",
      " [ 2.67147415e-16  1.00000000e+00 -1.82145965e-17]\n",
      " [ 5.55111512e-17 -1.82145965e-17  1.00000000e+00]]\n",
      "Condition number of matrix Q^T*Q: 1.0000000000000002\n"
     ]
    }
   ],
   "source": [
    "Q = ortho_group.rvs(dim=3) # Generate random orthogonal matrix \n",
    "QTQ = Q.T@Q # Q^T * Q\n",
    "print(QTQ) # Check that it is the identity matrix\n",
    "print(f'Condition number of matrix Q^T*Q: {np.linalg.cond(QTQ)}')"
   ]
  },
  {
   "cell_type": "markdown",
   "id": "1c33cfa0",
   "metadata": {},
   "source": [
    "*Proof.* We have that $\\text{cond}_2(Q) = ||Q||_2 \\cdot ||Q^{-1}||_2$, where the 2-norm has the property \n",
    "that $||Q||_2 = \\sqrt{\\lambda_{max}(Q^TQ)}$. If $Q$ is an \n",
    "orthogonal matrix then it fulfills the following two properties:\n",
    "\\begin{itemize}\n",
    "    \\item $Q^{-1} = Q^T$,\n",
    "    \\item $Q^TQ = QQ^T = I$, where $I$ is the identity matrix.\n",
    "\\end{itemize} \n",
    "Thus,\n",
    "\\begin{align*}\n",
    "    \\text{cond}_2(Q) &= ||Q||_2 \\cdot ||Q^{-1}||_2 = ||Q||_2 \\cdot ||Q^{T}||_2 \\\\\n",
    "    &= \\sqrt{\\lambda_{max}(Q^TQ)} \\cdot \\sqrt{\\lambda_{max}(QQ^T)} \\\\\n",
    "    &= \\sqrt{\\lambda_{max}(I)} \\cdot \\sqrt{\\lambda_{max}(I)} \\\\\n",
    "    &= \\sqrt{1} \\cdot \\sqrt{1} \\\\\n",
    "    &= 1. \\quad \\quad \\quad \\quad \\square\n",
    "\\end{align*} "
   ]
  },
  {
   "cell_type": "markdown",
   "id": "a7165165",
   "metadata": {},
   "source": [
    "# B - Software calculations"
   ]
  },
  {
   "cell_type": "markdown",
   "id": "d43227db",
   "metadata": {},
   "source": [
    "## Exercise 3"
   ]
  },
  {
   "cell_type": "code",
   "execution_count": 5,
   "id": "25fa8d18",
   "metadata": {},
   "outputs": [],
   "source": [
    "df = pd.read_csv(r'LifeExpectancyData.csv')"
   ]
  },
  {
   "cell_type": "code",
   "execution_count": 6,
   "id": "8758b529",
   "metadata": {},
   "outputs": [
    {
     "data": {
      "text/html": [
       "<div>\n",
       "<style scoped>\n",
       "    .dataframe tbody tr th:only-of-type {\n",
       "        vertical-align: middle;\n",
       "    }\n",
       "\n",
       "    .dataframe tbody tr th {\n",
       "        vertical-align: top;\n",
       "    }\n",
       "\n",
       "    .dataframe thead th {\n",
       "        text-align: right;\n",
       "    }\n",
       "</style>\n",
       "<table border=\"1\" class=\"dataframe\">\n",
       "  <thead>\n",
       "    <tr style=\"text-align: right;\">\n",
       "      <th></th>\n",
       "      <th>Life expectancy</th>\n",
       "      <th>Schooling</th>\n",
       "    </tr>\n",
       "  </thead>\n",
       "  <tbody>\n",
       "    <tr>\n",
       "      <th>0</th>\n",
       "      <td>65.0</td>\n",
       "      <td>10.1</td>\n",
       "    </tr>\n",
       "    <tr>\n",
       "      <th>1</th>\n",
       "      <td>59.9</td>\n",
       "      <td>10.0</td>\n",
       "    </tr>\n",
       "    <tr>\n",
       "      <th>2</th>\n",
       "      <td>59.9</td>\n",
       "      <td>9.9</td>\n",
       "    </tr>\n",
       "    <tr>\n",
       "      <th>3</th>\n",
       "      <td>59.5</td>\n",
       "      <td>9.8</td>\n",
       "    </tr>\n",
       "    <tr>\n",
       "      <th>4</th>\n",
       "      <td>59.2</td>\n",
       "      <td>9.5</td>\n",
       "    </tr>\n",
       "    <tr>\n",
       "      <th>...</th>\n",
       "      <td>...</td>\n",
       "      <td>...</td>\n",
       "    </tr>\n",
       "    <tr>\n",
       "      <th>2933</th>\n",
       "      <td>44.3</td>\n",
       "      <td>9.2</td>\n",
       "    </tr>\n",
       "    <tr>\n",
       "      <th>2934</th>\n",
       "      <td>44.5</td>\n",
       "      <td>9.5</td>\n",
       "    </tr>\n",
       "    <tr>\n",
       "      <th>2935</th>\n",
       "      <td>44.8</td>\n",
       "      <td>10.0</td>\n",
       "    </tr>\n",
       "    <tr>\n",
       "      <th>2936</th>\n",
       "      <td>45.3</td>\n",
       "      <td>9.8</td>\n",
       "    </tr>\n",
       "    <tr>\n",
       "      <th>2937</th>\n",
       "      <td>46.0</td>\n",
       "      <td>9.8</td>\n",
       "    </tr>\n",
       "  </tbody>\n",
       "</table>\n",
       "<p>2938 rows × 2 columns</p>\n",
       "</div>"
      ],
      "text/plain": [
       "      Life expectancy   Schooling\n",
       "0                 65.0       10.1\n",
       "1                 59.9       10.0\n",
       "2                 59.9        9.9\n",
       "3                 59.5        9.8\n",
       "4                 59.2        9.5\n",
       "...                ...        ...\n",
       "2933              44.3        9.2\n",
       "2934              44.5        9.5\n",
       "2935              44.8       10.0\n",
       "2936              45.3        9.8\n",
       "2937              46.0        9.8\n",
       "\n",
       "[2938 rows x 2 columns]"
      ]
     },
     "execution_count": 6,
     "metadata": {},
     "output_type": "execute_result"
    }
   ],
   "source": [
    "analysis = df[['Life expectancy ', 'Schooling']]\n",
    "analysis"
   ]
  },
  {
   "cell_type": "code",
   "execution_count": 7,
   "id": "99ba86f3",
   "metadata": {},
   "outputs": [
    {
     "data": {
      "image/png": "[encoded data removed]",
      "text/plain": [
       "<Figure size 640x480 with 1 Axes>"
      ]
     },
     "metadata": {},
     "output_type": "display_data"
    }
   ],
   "source": [
    "x_unfiltered = analysis[\"Schooling\"].to_numpy()\n",
    "y_unfiltered = analysis[\"Life expectancy \"].to_numpy()\n",
    "\n",
    "# Drop nan from x where both x and y are nan\n",
    "x = x_unfiltered[~(np.isnan(x_unfiltered) | np.isnan(y_unfiltered))]\n",
    "\n",
    "# Drop nan from y where both x and y are nan\n",
    "y = y_unfiltered[~(np.isnan(x_unfiltered) | np.isnan(y_unfiltered))]\n",
    "\n",
    "plt.scatter(x,y, s=3)\n",
    "plt.show()"
   ]
  },
  {
   "cell_type": "markdown",
   "id": "5541c870",
   "metadata": {},
   "source": [
    "### b.\n",
    "Analyze the dependency between life expectancy and schooling. Use quadratic\n",
    "regression, the model $y = \\beta_0 + \\beta_1 x + \\beta_2 x^2$, where schooling is the dependent\n",
    "variable (x) and life expectancy the dependent variable (y).\n",
    "Solve the least squares problem in two different ways, by forming and solving the\n",
    "normal equations ($A^TA\\hat{x} = A^T y$) and also via QR-decomposition, respectively.\n",
    "Plot the polynomials together with the data set (use e.g. **numpy.polyval** in\n",
    "Python to evaluate the polynomial)."
   ]
  },
  {
   "cell_type": "markdown",
   "id": "8f2956ee",
   "metadata": {},
   "source": [
    "**Answer:** Using the normal equations:"
   ]
  },
  {
   "cell_type": "code",
   "execution_count": 8,
   "id": "79a71bb5",
   "metadata": {},
   "outputs": [
    {
     "data": {
      "text/plain": [
       "array([[  1.  ,  10.1 , 102.01],\n",
       "       [  1.  ,  10.  , 100.  ],\n",
       "       [  1.  ,   9.9 ,  98.01],\n",
       "       ...,\n",
       "       [  1.  ,  10.  , 100.  ],\n",
       "       [  1.  ,   9.8 ,  96.04],\n",
       "       [  1.  ,   9.8 ,  96.04]])"
      ]
     },
     "execution_count": 8,
     "metadata": {},
     "output_type": "execute_result"
    }
   ],
   "source": [
    "A = np.vander(x, 3, increasing=True) \n",
    "A"
   ]
  },
  {
   "cell_type": "code",
   "execution_count": 9,
   "id": "d53f6578",
   "metadata": {},
   "outputs": [
    {
     "data": {
      "text/plain": [
       "array([51.86257553,  0.54042781,  0.07089593])"
      ]
     },
     "execution_count": 9,
     "metadata": {},
     "output_type": "execute_result"
    }
   ],
   "source": [
    "x_NE = np.linalg.solve(A.T@A, A.T@y)\n",
    "x_NE"
   ]
  },
  {
   "cell_type": "markdown",
   "id": "83bd03a2",
   "metadata": {},
   "source": [
    "Next, using QR-decomposition:"
   ]
  },
  {
   "cell_type": "code",
   "execution_count": 10,
   "id": "d8fb4c1e",
   "metadata": {},
   "outputs": [
    {
     "name": "stdout",
     "output_type": "stream",
     "text": [
      "[[-0.01900715 -0.01079154 -0.01214098]\n",
      " [-0.01900715 -0.01135962 -0.01193172]\n",
      " [-0.01900715 -0.01192771 -0.01170097]\n",
      " ...\n",
      " [-0.01900715 -0.01135962 -0.01193172]\n",
      " [-0.01900715 -0.01249579 -0.01144872]\n",
      " [-0.01900715 -0.01249579 -0.01144872]]\n",
      "[[  -52.61178575  -631.32242187 -8164.60977063]\n",
      " [    0.           176.03039408  3880.89904321]\n",
      " [    0.             0.           930.32667422]]\n"
     ]
    }
   ],
   "source": [
    "Q, R = np.linalg.qr(A, mode=\"reduced\")\n",
    "\n",
    "print(Q)\n",
    "print(R)"
   ]
  },
  {
   "cell_type": "code",
   "execution_count": 11,
   "id": "e39a20f5",
   "metadata": {},
   "outputs": [
    {
     "data": {
      "text/plain": [
       "array([51.86257553,  0.54042781,  0.07089593])"
      ]
     },
     "execution_count": 11,
     "metadata": {},
     "output_type": "execute_result"
    }
   ],
   "source": [
    "x_QR = solve_triangular(R, Q.T@y)\n",
    "x_QR"
   ]
  },
  {
   "cell_type": "code",
   "execution_count": 12,
   "id": "b3c85ec1",
   "metadata": {},
   "outputs": [],
   "source": [
    "model = A @ x_QR"
   ]
  },
  {
   "cell_type": "code",
   "execution_count": 13,
   "id": "fdf921db",
   "metadata": {},
   "outputs": [
    {
     "data": {
      "image/png": "[encoded data removed]",
      "text/plain": [
       "<Figure size 640x480 with 1 Axes>"
      ]
     },
     "metadata": {},
     "output_type": "display_data"
    }
   ],
   "source": [
    "permut = x.argsort() # Obtain sorted permutation for line plot\n",
    "plt.plot(x[permut], model[permut], color=\"black\", linewidth=3)\n",
    "plt.scatter(x,y, s=5)\n",
    "plt.show()"
   ]
  },
  {
   "cell_type": "markdown",
   "id": "fc52f914",
   "metadata": {},
   "source": [
    "### c."
   ]
  },
  {
   "cell_type": "markdown",
   "id": "34a4c484",
   "metadata": {},
   "source": [
    "Calculate the condition number of the matrix $A$ and $A^TA$, respectively. \n",
    "In a worst case scenario, how much accuracy would we lose in the normal equation solution, $\\hat{x}_{NE}$?\n",
    "\n",
    "If we consider the QR-decomposition solution $\\hat{x}_{QR}$ to be \"exact\", we can compare the two solutions, the \n",
    "relative error $||\\hat{x}_{QR} - \\hat{x}_{NE}||/||\\hat{x}_{QR}||$, to get an idea of the actual accuracy in \n",
    "$\\hat{x}_{NE}$.\n",
    "\n",
    "Do this and compare with the worst-case scenario. Note, no error at all is equivalent to relative error\n",
    "$\\approx 10^{-16}$, due to roundoff errors in the computations."
   ]
  },
  {
   "cell_type": "markdown",
   "id": "c85837aa",
   "metadata": {},
   "source": [
    "**Answer:**"
   ]
  },
  {
   "cell_type": "code",
   "execution_count": 14,
   "id": "37886cd5",
   "metadata": {},
   "outputs": [
    {
     "name": "stdout",
     "output_type": "stream",
     "text": [
      "Condition number of matrix A: 1267.820078736955\n",
      "Condition number of matrix A^TA: 1607367.7520410533\n"
     ]
    }
   ],
   "source": [
    "print(f'Condition number of matrix A: {np.linalg.cond(A)}')\n",
    "print(f'Condition number of matrix A^TA: {np.linalg.cond(A.T@A)}')"
   ]
  },
  {
   "cell_type": "code",
   "execution_count": 15,
   "id": "d676b02c",
   "metadata": {},
   "outputs": [
    {
     "name": "stdout",
     "output_type": "stream",
     "text": [
      "Relative error: 4.890805099137545e-14\n"
     ]
    }
   ],
   "source": [
    "x_QR_norm = np.linalg.norm(x_QR)\n",
    "x_NE_norm = np.linalg.norm(x_NE)\n",
    "relative_error = (x_QR_norm - x_NE_norm)/x_QR_norm\n",
    "print(f'Relative error: {relative_error}')"
   ]
  },
  {
   "cell_type": "markdown",
   "id": "7920a8d6",
   "metadata": {},
   "source": [
    "In the worst-case scenario we get that perturbation in input data is magnified by $1.6 \\cdot 10^6$, when comparing \n",
    "the two methods we get a relative error of $4.9 \\cdot 10^{-14}$."
   ]
  },
  {
   "cell_type": "markdown",
   "id": "43d8225d",
   "metadata": {},
   "source": [
    "### d."
   ]
  },
  {
   "cell_type": "markdown",
   "id": "77a12d0b",
   "metadata": {},
   "source": [
    "Finally, create a histogram of the residual, $y - A\\hat{x}$. Don’t use too few bins in the\n",
    "histogram, choose for example 200 bins.\n",
    "The difference between any data point and the regression line can be expressed\n",
    "with the residual. If it is correct the residual should roughly follow a normal\n",
    "distribution. Does it seem to be correct here?"
   ]
  },
  {
   "cell_type": "markdown",
   "id": "31e20934",
   "metadata": {},
   "source": [
    "**Answer:**"
   ]
  },
  {
   "cell_type": "code",
   "execution_count": 16,
   "id": "d08f2748",
   "metadata": {},
   "outputs": [
    {
     "data": {
      "image/png": "[encoded data removed]",
      "text/plain": [
       "<Figure size 640x480 with 1 Axes>"
      ]
     },
     "metadata": {},
     "output_type": "display_data"
    }
   ],
   "source": [
    "res = y - A @ x_QR\n",
    "\n",
    "# Plot seaborn histogram overlaid with KDE\n",
    "ax = sns.histplot(data=res, bins=200, stat='density', alpha= 1, kde=True,\n",
    "                  edgecolor='white', linewidth=0.5,\n",
    "                  line_kws=dict(color='black', alpha=0.5, linewidth=1.5, label='KDE'))\n",
    "ax.get_lines()[0].set_color('black') # edit line color due to bug in sns v 0.11.0\n",
    "\n",
    "plt.show()\n"
   ]
  },
  {
   "cell_type": "markdown",
   "id": "924fa5a8",
   "metadata": {},
   "source": [
    "**Conclusion:** the residual roughly follows a normal distribution, so it seems to be correct."
   ]
  },
  {
   "cell_type": "markdown",
   "id": "6cbe9b5c",
   "metadata": {},
   "source": [
    "## Exercise 4"
   ]
  },
  {
   "cell_type": "markdown",
   "id": "067314f0",
   "metadata": {},
   "source": [
    "A “theoretical” question linked to exercise 3 above. How “big”, i.e. what\n",
    "dimensions, do the subspaces $\\mathbb{C}(A)$ and $\\mathbb{N}(A^T)$, respectively, have in the problem above? "
   ]
  },
  {
   "cell_type": "markdown",
   "id": "6a6936e1",
   "metadata": {},
   "source": [
    "**Answer:** "
   ]
  },
  {
   "cell_type": "code",
   "execution_count": 17,
   "id": "c5465032",
   "metadata": {},
   "outputs": [
    {
     "data": {
      "text/plain": [
       "(2768, 3)"
      ]
     },
     "execution_count": 17,
     "metadata": {},
     "output_type": "execute_result"
    }
   ],
   "source": [
    "A.shape"
   ]
  },
  {
   "cell_type": "code",
   "execution_count": 18,
   "id": "bc075616",
   "metadata": {},
   "outputs": [
    {
     "data": {
      "text/plain": [
       "3"
      ]
     },
     "execution_count": 18,
     "metadata": {},
     "output_type": "execute_result"
    }
   ],
   "source": [
    "np.linalg.matrix_rank(A)"
   ]
  },
  {
   "cell_type": "markdown",
   "id": "895dd6bc",
   "metadata": {},
   "source": [
    "A is a $2768 \\times 3$ matrix of rank 3. Thus, \n",
    "$\\mathbb{C}(A), \\mathbb{N}(A^T) \\in \\mathbb{R}^M,$\n",
    "$\\mathbb{C}(A) = 3,$ and $\\mathbb{N}(A^T) = 2768 - \\mathbb{C}(A) = 2768 - 3 = 2765.$"
   ]
  },
  {
   "cell_type": "code",
   "execution_count": null,
   "id": "b2bb346d",
   "metadata": {},
   "outputs": [],
   "source": []
  }
 ],
 "metadata": {
  "authors": [
   {
    "name": "Emir Esenov"
   }
  ],
  "kernelspec": {
   "display_name": "Python 3 (ipykernel)",
   "language": "python",
   "name": "python3"
  },
  "language_info": {
   "codemirror_mode": {
    "name": "ipython",
    "version": 3
   },
   "file_extension": ".py",
   "mimetype": "text/x-python",
   "name": "python",
   "nbconvert_exporter": "python",
   "pygments_lexer": "ipython3",
   "version": "3.10.9"
  }
 },
 "nbformat": 4,
 "nbformat_minor": 5
}
