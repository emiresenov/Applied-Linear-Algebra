{
 "cells": [
  {
   "cell_type": "code",
   "execution_count": 2,
   "id": "0187d4c7",
   "metadata": {},
   "outputs": [],
   "source": [
    "import numpy as np"
   ]
  },
  {
   "cell_type": "markdown",
   "id": "5a2d1a86",
   "metadata": {},
   "source": [
    "# Exercise 1"
   ]
  },
  {
   "cell_type": "markdown",
   "id": "779becc9",
   "metadata": {},
   "source": [
    "$$\n",
    "A \n",
    "= \n",
    "\\begin{pmatrix}\n",
    "    5 & 5 & 0 & 4 \\\\\n",
    "    1 & 1 & 5 & 0 \\\\\n",
    "    3 & 2 & 0 & 4 \\\\\n",
    "    5 & 3 & 0 & 5 \\\\\n",
    "    0 & 0 & 4 & 0 \n",
    "\\end{pmatrix}\n",
    "$$"
   ]
  },
  {
   "cell_type": "markdown",
   "id": "624ea805",
   "metadata": {},
   "source": [
    "## a. \n",
    "Compute the SVD of the matrix A."
   ]
  },
  {
   "cell_type": "code",
   "execution_count": 3,
   "id": "0d238197",
   "metadata": {},
   "outputs": [],
   "source": [
    "A = np.array([[5,5,0,4], [1,1,5,0], [3,2,0,4], [5,3,0,5], [0,0,4,0]])"
   ]
  },
  {
   "cell_type": "code",
   "execution_count": null,
   "id": "6b164882",
   "metadata": {},
   "outputs": [],
   "source": [
    "U, S, Vt = np.linalg.svd(A, full_matrices=False)\n",
    "print(f'U = {np.around(U,2)}')\n",
    "print(f'V^T = {np.around(Vt,2)}')\n",
    "print(f'Sigma = {np.around(S,2)}')"
   ]
  },
  {
   "cell_type": "code",
   "execution_count": null,
   "id": "34f1c905",
   "metadata": {},
   "outputs": [],
   "source": []
  },
  {
   "cell_type": "code",
   "execution_count": null,
   "id": "64488bff",
   "metadata": {},
   "outputs": [],
   "source": []
  },
  {
   "cell_type": "code",
   "execution_count": null,
   "id": "becc03c6",
   "metadata": {},
   "outputs": [],
   "source": []
  },
  {
   "cell_type": "code",
   "execution_count": null,
   "id": "25db480e",
   "metadata": {},
   "outputs": [],
   "source": []
  },
  {
   "cell_type": "code",
   "execution_count": null,
   "id": "3619c8c1",
   "metadata": {},
   "outputs": [],
   "source": []
  }
 ],
 "metadata": {
  "authors": [
   {
    "name": "Emir Esenov"
   }
  ],
  "kernelspec": {
   "display_name": "Python 3 (ipykernel)",
   "language": "python",
   "name": "python3"
  },
  "language_info": {
   "codemirror_mode": {
    "name": "ipython",
    "version": 3
   },
   "file_extension": ".py",
   "mimetype": "text/x-python",
   "name": "python",
   "nbconvert_exporter": "python",
   "pygments_lexer": "ipython3",
   "version": "3.10.9"
  }
 },
 "nbformat": 4,
 "nbformat_minor": 5
}
